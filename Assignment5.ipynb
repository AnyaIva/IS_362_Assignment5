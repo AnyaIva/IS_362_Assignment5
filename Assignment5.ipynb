{
 "cells": [
  {
   "cell_type": "code",
   "execution_count": 10,
   "id": "39b2b3da",
   "metadata": {},
   "outputs": [],
   "source": [
    "import numpy as np   \n",
    "import pandas as pd\n",
    "\n",
    "#load the data\n",
    "\n",
    "airlines = pd.read_csv('airlines.csv')\n",
    "airports = pd.read_csv('airports.csv')\n",
    "planes = pd.read_csv('planes.csv')\n",
    "weather = pd.read_csv('weather.csv')"
   ]
  },
  {
   "cell_type": "code",
   "execution_count": 14,
   "id": "0fce4132",
   "metadata": {},
   "outputs": [
    {
     "name": "stdout",
     "output_type": "stream",
     "text": [
      "The northernmost airport in the United States is: Dillant Hopkins Airport\n"
     ]
    }
   ],
   "source": [
    "#find the northernmost airport\n",
    "\n",
    "northernmost_airport = airports.loc[airports_df['lat'] == airports['lat'].max(), 'name'].values[0]\n",
    "print('The northernmost airport in the United States is:', northernmost_airport)"
   ]
  },
  {
   "cell_type": "markdown",
   "id": "c861b8a7",
   "metadata": {},
   "source": []
  },
  {
   "cell_type": "code",
   "execution_count": 16,
   "id": "1d19cc9e",
   "metadata": {},
   "outputs": [
    {
     "name": "stdout",
     "output_type": "stream",
     "text": [
      "The easternmost airport in the United States is: Adak Airport\n"
     ]
    }
   ],
   "source": [
    "#find the easternmost airport\n",
    "\n",
    "easternmost_airport = airports.loc[airports_df['lon'] == airports['lon'].min(), 'name'].values[0]\n",
    "print('The easternmost airport in the United States is:', easternmost_airport)\n"
   ]
  },
  {
   "cell_type": "code",
   "execution_count": 20,
   "id": "aaf33579",
   "metadata": {},
   "outputs": [
    {
     "name": "stdout",
     "output_type": "stream",
     "text": [
      "On February 12th, 2013, the New York area airport with the windiest weather was: EWR\n"
     ]
    }
   ],
   "source": [
    "#find the New York area airport with the highest wind speed\n",
    "\n",
    "ny_airports = ['JFK', 'LGA', 'EWR']\n",
    "windiest_airport = weather.loc[weather['origin'].isin(ny_airports), 'origin'].iloc[weather.loc[weather['origin'].isin(ny_airports), 'wind_speed'].argmax()]\n",
    "print('On February 12th, 2013, the New York area airport with the windiest weather was:', windiest_airport)"
   ]
  },
  {
   "cell_type": "code",
   "execution_count": null,
   "id": "7373b690",
   "metadata": {},
   "outputs": [],
   "source": []
  },
  {
   "cell_type": "code",
   "execution_count": null,
   "id": "e1fb8abe",
   "metadata": {},
   "outputs": [],
   "source": []
  }
 ],
 "metadata": {
  "kernelspec": {
   "display_name": "Python 3",
   "language": "python",
   "name": "python3"
  },
  "language_info": {
   "codemirror_mode": {
    "name": "ipython",
    "version": 3
   },
   "file_extension": ".py",
   "mimetype": "text/x-python",
   "name": "python",
   "nbconvert_exporter": "python",
   "pygments_lexer": "ipython3",
   "version": "3.8.10"
  }
 },
 "nbformat": 4,
 "nbformat_minor": 5
}
